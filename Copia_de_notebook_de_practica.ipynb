{
  "nbformat": 4,
  "nbformat_minor": 0,
  "metadata": {
    "kernelspec": {
      "display_name": "Python (data_science)",
      "language": "python",
      "name": "data_science"
    },
    "language_info": {
      "codemirror_mode": {
        "name": "ipython",
        "version": 3
      },
      "file_extension": ".py",
      "mimetype": "text/x-python",
      "name": "python",
      "nbconvert_exporter": "python",
      "pygments_lexer": "ipython3",
      "version": "3.8.1"
    },
    "colab": {
      "name": "Copia de notebook_de_practica.ipynb",
      "provenance": [],
      "include_colab_link": true
    }
  },
  "cells": [
    {
      "cell_type": "markdown",
      "metadata": {
        "id": "view-in-github",
        "colab_type": "text"
      },
      "source": [
        "<a href=\"https://colab.research.google.com/github/arrazolahn/Procesamiento-de-datos-con-python/blob/main/Copia_de_notebook_de_practica.ipynb\" target=\"_parent\"><img src=\"https://colab.research.google.com/assets/colab-badge.svg\" alt=\"Open In Colab\"/></a>"
      ]
    },
    {
      "cell_type": "markdown",
      "metadata": {
        "id": "yo9Y8nNyBlQS"
      },
      "source": [
        "# Ejemplo 1: Esto es un Notebook de práctica\n",
        "\n",
        "---\n",
        "\n",
        "### 1. Objetivos:\n",
        "  - Repasar rápidamente cómo funciona Jupyter Notebooks para recordar lo que vimos en el Prework.\n",
        "  \n",
        "  \n",
        "### 2. Requisitos:\n",
        "  - Jupyter Notebooks instalado\n",
        " \n",
        "---"
      ]
    },
    {
      "cell_type": "markdown",
      "metadata": {
        "id": "tPqE_3WfBlQV"
      },
      "source": [
        "En JN tenemos `modo comando` y `modo edición`. \n",
        "\n",
        "- Para entrar en `modo edición` > `return`\n",
        "- Para entrar en `modo comando` > `esc`\n",
        "\n",
        "- El `modo edición` sirve para editar celdas\n",
        "- El `modo comando` sirve para usar comandos de JN"
      ]
    },
    {
      "cell_type": "markdown",
      "metadata": {
        "id": "QMoGIPJGBlQW"
      },
      "source": [
        "Para correr celdas, presionamos `shift + return`.\n",
        "\n",
        "- Una `celda markdown` (de texto), muestra el texto estilizado al ser corrida\n",
        "- Una `celda de código` corre el código que contiene y muestra el output debajo"
      ]
    },
    {
      "cell_type": "markdown",
      "metadata": {
        "id": "F8vUV6RzBlQX"
      },
      "source": [
        "1. Para cambiar una celda a `markdown`, selecciona la celda a cambiar, entra en `modo comando` y presiona `m`.\n",
        "2. Para cambiarla a `código` sigue el mismo proceso pero usa `y`."
      ]
    },
    {
      "cell_type": "markdown",
      "metadata": {
        "id": "-XXIyTCxBlQY"
      },
      "source": [
        "Esto es una celda de `markdown``"
      ]
    },
    {
      "cell_type": "code",
      "metadata": {
        "id": "INDHAI5oBlQY"
      },
      "source": [
        "# Esto es una celda de código\n",
        "# Y yo soy un comentario, por cierto"
      ],
      "execution_count": null,
      "outputs": []
    },
    {
      "cell_type": "markdown",
      "metadata": {
        "id": "SPVS-YMCBlQZ"
      },
      "source": [
        "Escribamos algo de código para correrlo:"
      ]
    },
    {
      "cell_type": "code",
      "metadata": {
        "id": "y7N-3fOGBlQa",
        "outputId": "ae54a35f-ea8e-41b0-e672-25ed5a67487d"
      },
      "source": [
        "var_1 = 4\n",
        "var_2 = 5\n",
        "\n",
        "var_1 + var_2"
      ],
      "execution_count": null,
      "outputs": [
        {
          "output_type": "execute_result",
          "data": {
            "text/plain": [
              "9"
            ]
          },
          "metadata": {
            "tags": []
          },
          "execution_count": 2
        }
      ]
    },
    {
      "cell_type": "markdown",
      "metadata": {
        "id": "8C4D5yKbBlQd"
      },
      "source": [
        "Seguro reconoces las variables y operadores matemáticos por el Prework.\n",
        "\n",
        "Cada vez que corremos una celda de código, aparece un contador a la izquierda.\n",
        "\n",
        "En la siguiente celda vamos a ver un `[3]` después de correrla:"
      ]
    },
    {
      "cell_type": "code",
      "metadata": {
        "id": "Vpo5e5SWBlQe",
        "outputId": "7789734c-2c11-489c-8c27-f0874b8511d7"
      },
      "source": [
        "var_3 = 9\n",
        "\n",
        "var_1 - var_3"
      ],
      "execution_count": null,
      "outputs": [
        {
          "output_type": "execute_result",
          "data": {
            "text/plain": [
              "-5"
            ]
          },
          "metadata": {
            "tags": []
          },
          "execution_count": 3
        }
      ]
    },
    {
      "cell_type": "markdown",
      "metadata": {
        "id": "_7E_45bWBlQf"
      },
      "source": [
        "Como puedes ver, podemos acceder a variables que asignamos en celdas pasadas (mientras la celda anterior ya haya sido corrida)"
      ]
    },
    {
      "cell_type": "markdown",
      "metadata": {
        "id": "60f6OzImBlQf"
      },
      "source": [
        "Para reiniciar nuestro JN, vamos al menú y elegimos `Kernel/Restart & Clear Output`"
      ]
    },
    {
      "cell_type": "markdown",
      "metadata": {
        "id": "6fx_ZYPnBlQf"
      },
      "source": [
        "## **¡Estamos Listos!**"
      ]
    },
    {
      "cell_type": "code",
      "metadata": {
        "id": "nvOICsn_BlQh"
      },
      "source": [
        ""
      ],
      "execution_count": null,
      "outputs": []
    }
  ]
}